{
 "cells": [
  {
   "cell_type": "code",
   "execution_count": 3,
   "id": "cc7b9fcd-4d96-417a-ae65-ee2d522eac27",
   "metadata": {
    "tags": []
   },
   "outputs": [],
   "source": [
    "import numpy as np\n",
    "import pandas as pd\n",
    "import matplotlib.pyplot as plt\n",
    "import seaborn as sns\n",
    "\n",
    "import warnings\n",
    "warnings.filterwarnings('ignore')"
   ]
  },
  {
   "cell_type": "code",
   "execution_count": 5,
   "id": "85d8e1f0-3b9b-4b5a-bf1d-167b39dbe014",
   "metadata": {
    "tags": []
   },
   "outputs": [],
   "source": [
    "from sklearn.model_selection import StratifiedShuffleSplit\n",
    "from sklearn.linear_model import LogisticRegression\n",
    "from sklearn.ensemble import RandomForestClassifier, GradientBoostingClassifier\n",
    "from sklearn.model_selection import cross_val_score, cross_val_predict\n",
    "from sklearn.metrics import classification_report, confusion_matrix, ConfusionMatrixDisplay"
   ]
  },
  {
   "cell_type": "code",
   "execution_count": 7,
   "id": "d9b1ac8c-c122-42ce-942e-020e35381433",
   "metadata": {
    "tags": []
   },
   "outputs": [
    {
     "data": {
      "text/html": [
       "<div>\n",
       "<style scoped>\n",
       "    .dataframe tbody tr th:only-of-type {\n",
       "        vertical-align: middle;\n",
       "    }\n",
       "\n",
       "    .dataframe tbody tr th {\n",
       "        vertical-align: top;\n",
       "    }\n",
       "\n",
       "    .dataframe thead th {\n",
       "        text-align: right;\n",
       "    }\n",
       "</style>\n",
       "<table border=\"1\" class=\"dataframe\">\n",
       "  <thead>\n",
       "    <tr style=\"text-align: right;\">\n",
       "      <th></th>\n",
       "      <th>satisfaction_level</th>\n",
       "      <th>last_evaluation</th>\n",
       "      <th>number_project</th>\n",
       "      <th>average_montly_hours</th>\n",
       "      <th>time_spend_company</th>\n",
       "      <th>Work_accident</th>\n",
       "      <th>left</th>\n",
       "      <th>promotion_last_5years</th>\n",
       "      <th>sales</th>\n",
       "      <th>salary</th>\n",
       "    </tr>\n",
       "  </thead>\n",
       "  <tbody>\n",
       "    <tr>\n",
       "      <th>0</th>\n",
       "      <td>0.38</td>\n",
       "      <td>0.53</td>\n",
       "      <td>2</td>\n",
       "      <td>157</td>\n",
       "      <td>3</td>\n",
       "      <td>0</td>\n",
       "      <td>1</td>\n",
       "      <td>0</td>\n",
       "      <td>sales</td>\n",
       "      <td>low</td>\n",
       "    </tr>\n",
       "    <tr>\n",
       "      <th>1</th>\n",
       "      <td>0.80</td>\n",
       "      <td>0.86</td>\n",
       "      <td>5</td>\n",
       "      <td>262</td>\n",
       "      <td>6</td>\n",
       "      <td>0</td>\n",
       "      <td>1</td>\n",
       "      <td>0</td>\n",
       "      <td>sales</td>\n",
       "      <td>medium</td>\n",
       "    </tr>\n",
       "    <tr>\n",
       "      <th>2</th>\n",
       "      <td>0.11</td>\n",
       "      <td>0.88</td>\n",
       "      <td>7</td>\n",
       "      <td>272</td>\n",
       "      <td>4</td>\n",
       "      <td>0</td>\n",
       "      <td>1</td>\n",
       "      <td>0</td>\n",
       "      <td>sales</td>\n",
       "      <td>medium</td>\n",
       "    </tr>\n",
       "    <tr>\n",
       "      <th>3</th>\n",
       "      <td>0.72</td>\n",
       "      <td>0.87</td>\n",
       "      <td>5</td>\n",
       "      <td>223</td>\n",
       "      <td>5</td>\n",
       "      <td>0</td>\n",
       "      <td>1</td>\n",
       "      <td>0</td>\n",
       "      <td>sales</td>\n",
       "      <td>low</td>\n",
       "    </tr>\n",
       "    <tr>\n",
       "      <th>4</th>\n",
       "      <td>0.37</td>\n",
       "      <td>0.52</td>\n",
       "      <td>2</td>\n",
       "      <td>159</td>\n",
       "      <td>3</td>\n",
       "      <td>0</td>\n",
       "      <td>1</td>\n",
       "      <td>0</td>\n",
       "      <td>sales</td>\n",
       "      <td>low</td>\n",
       "    </tr>\n",
       "    <tr>\n",
       "      <th>...</th>\n",
       "      <td>...</td>\n",
       "      <td>...</td>\n",
       "      <td>...</td>\n",
       "      <td>...</td>\n",
       "      <td>...</td>\n",
       "      <td>...</td>\n",
       "      <td>...</td>\n",
       "      <td>...</td>\n",
       "      <td>...</td>\n",
       "      <td>...</td>\n",
       "    </tr>\n",
       "    <tr>\n",
       "      <th>14994</th>\n",
       "      <td>0.40</td>\n",
       "      <td>0.57</td>\n",
       "      <td>2</td>\n",
       "      <td>151</td>\n",
       "      <td>3</td>\n",
       "      <td>0</td>\n",
       "      <td>1</td>\n",
       "      <td>0</td>\n",
       "      <td>support</td>\n",
       "      <td>low</td>\n",
       "    </tr>\n",
       "    <tr>\n",
       "      <th>14995</th>\n",
       "      <td>0.37</td>\n",
       "      <td>0.48</td>\n",
       "      <td>2</td>\n",
       "      <td>160</td>\n",
       "      <td>3</td>\n",
       "      <td>0</td>\n",
       "      <td>1</td>\n",
       "      <td>0</td>\n",
       "      <td>support</td>\n",
       "      <td>low</td>\n",
       "    </tr>\n",
       "    <tr>\n",
       "      <th>14996</th>\n",
       "      <td>0.37</td>\n",
       "      <td>0.53</td>\n",
       "      <td>2</td>\n",
       "      <td>143</td>\n",
       "      <td>3</td>\n",
       "      <td>0</td>\n",
       "      <td>1</td>\n",
       "      <td>0</td>\n",
       "      <td>support</td>\n",
       "      <td>low</td>\n",
       "    </tr>\n",
       "    <tr>\n",
       "      <th>14997</th>\n",
       "      <td>0.11</td>\n",
       "      <td>0.96</td>\n",
       "      <td>6</td>\n",
       "      <td>280</td>\n",
       "      <td>4</td>\n",
       "      <td>0</td>\n",
       "      <td>1</td>\n",
       "      <td>0</td>\n",
       "      <td>support</td>\n",
       "      <td>low</td>\n",
       "    </tr>\n",
       "    <tr>\n",
       "      <th>14998</th>\n",
       "      <td>0.37</td>\n",
       "      <td>0.52</td>\n",
       "      <td>2</td>\n",
       "      <td>158</td>\n",
       "      <td>3</td>\n",
       "      <td>0</td>\n",
       "      <td>1</td>\n",
       "      <td>0</td>\n",
       "      <td>support</td>\n",
       "      <td>low</td>\n",
       "    </tr>\n",
       "  </tbody>\n",
       "</table>\n",
       "<p>14999 rows × 10 columns</p>\n",
       "</div>"
      ],
      "text/plain": [
       "       satisfaction_level  last_evaluation  number_project  \\\n",
       "0                    0.38             0.53               2   \n",
       "1                    0.80             0.86               5   \n",
       "2                    0.11             0.88               7   \n",
       "3                    0.72             0.87               5   \n",
       "4                    0.37             0.52               2   \n",
       "...                   ...              ...             ...   \n",
       "14994                0.40             0.57               2   \n",
       "14995                0.37             0.48               2   \n",
       "14996                0.37             0.53               2   \n",
       "14997                0.11             0.96               6   \n",
       "14998                0.37             0.52               2   \n",
       "\n",
       "       average_montly_hours  time_spend_company  Work_accident  left  \\\n",
       "0                       157                   3              0     1   \n",
       "1                       262                   6              0     1   \n",
       "2                       272                   4              0     1   \n",
       "3                       223                   5              0     1   \n",
       "4                       159                   3              0     1   \n",
       "...                     ...                 ...            ...   ...   \n",
       "14994                   151                   3              0     1   \n",
       "14995                   160                   3              0     1   \n",
       "14996                   143                   3              0     1   \n",
       "14997                   280                   4              0     1   \n",
       "14998                   158                   3              0     1   \n",
       "\n",
       "       promotion_last_5years    sales  salary  \n",
       "0                          0    sales     low  \n",
       "1                          0    sales  medium  \n",
       "2                          0    sales  medium  \n",
       "3                          0    sales     low  \n",
       "4                          0    sales     low  \n",
       "...                      ...      ...     ...  \n",
       "14994                      0  support     low  \n",
       "14995                      0  support     low  \n",
       "14996                      0  support     low  \n",
       "14997                      0  support     low  \n",
       "14998                      0  support     low  \n",
       "\n",
       "[14999 rows x 10 columns]"
      ]
     },
     "execution_count": 7,
     "metadata": {},
     "output_type": "execute_result"
    }
   ],
   "source": [
    "df = pd.read_csv('_csv_hr_comma_sep.csv')\n",
    "df"
   ]
  },
  {
   "cell_type": "code",
   "execution_count": 8,
   "id": "9a3ba1e3-78b0-4798-bd56-9d0567d5c0b3",
   "metadata": {
    "tags": []
   },
   "outputs": [
    {
     "data": {
      "text/html": [
       "<div>\n",
       "<style scoped>\n",
       "    .dataframe tbody tr th:only-of-type {\n",
       "        vertical-align: middle;\n",
       "    }\n",
       "\n",
       "    .dataframe tbody tr th {\n",
       "        vertical-align: top;\n",
       "    }\n",
       "\n",
       "    .dataframe thead th {\n",
       "        text-align: right;\n",
       "    }\n",
       "</style>\n",
       "<table border=\"1\" class=\"dataframe\">\n",
       "  <thead>\n",
       "    <tr style=\"text-align: right;\">\n",
       "      <th></th>\n",
       "      <th>satisfaction_level</th>\n",
       "      <th>last_evaluation</th>\n",
       "      <th>number_project</th>\n",
       "      <th>average_montly_hours</th>\n",
       "      <th>time_spend_company</th>\n",
       "      <th>Work_accident</th>\n",
       "      <th>left</th>\n",
       "      <th>promotion_last_5years</th>\n",
       "      <th>sales</th>\n",
       "      <th>salary</th>\n",
       "    </tr>\n",
       "  </thead>\n",
       "  <tbody>\n",
       "    <tr>\n",
       "      <th>0</th>\n",
       "      <td>0.38</td>\n",
       "      <td>0.53</td>\n",
       "      <td>2</td>\n",
       "      <td>157</td>\n",
       "      <td>3</td>\n",
       "      <td>0</td>\n",
       "      <td>1</td>\n",
       "      <td>0</td>\n",
       "      <td>sales</td>\n",
       "      <td>low</td>\n",
       "    </tr>\n",
       "    <tr>\n",
       "      <th>1</th>\n",
       "      <td>0.80</td>\n",
       "      <td>0.86</td>\n",
       "      <td>5</td>\n",
       "      <td>262</td>\n",
       "      <td>6</td>\n",
       "      <td>0</td>\n",
       "      <td>1</td>\n",
       "      <td>0</td>\n",
       "      <td>sales</td>\n",
       "      <td>medium</td>\n",
       "    </tr>\n",
       "    <tr>\n",
       "      <th>2</th>\n",
       "      <td>0.11</td>\n",
       "      <td>0.88</td>\n",
       "      <td>7</td>\n",
       "      <td>272</td>\n",
       "      <td>4</td>\n",
       "      <td>0</td>\n",
       "      <td>1</td>\n",
       "      <td>0</td>\n",
       "      <td>sales</td>\n",
       "      <td>medium</td>\n",
       "    </tr>\n",
       "    <tr>\n",
       "      <th>3</th>\n",
       "      <td>0.72</td>\n",
       "      <td>0.87</td>\n",
       "      <td>5</td>\n",
       "      <td>223</td>\n",
       "      <td>5</td>\n",
       "      <td>0</td>\n",
       "      <td>1</td>\n",
       "      <td>0</td>\n",
       "      <td>sales</td>\n",
       "      <td>low</td>\n",
       "    </tr>\n",
       "    <tr>\n",
       "      <th>4</th>\n",
       "      <td>0.37</td>\n",
       "      <td>0.52</td>\n",
       "      <td>2</td>\n",
       "      <td>159</td>\n",
       "      <td>3</td>\n",
       "      <td>0</td>\n",
       "      <td>1</td>\n",
       "      <td>0</td>\n",
       "      <td>sales</td>\n",
       "      <td>low</td>\n",
       "    </tr>\n",
       "  </tbody>\n",
       "</table>\n",
       "</div>"
      ],
      "text/plain": [
       "   satisfaction_level  last_evaluation  number_project  average_montly_hours  \\\n",
       "0                0.38             0.53               2                   157   \n",
       "1                0.80             0.86               5                   262   \n",
       "2                0.11             0.88               7                   272   \n",
       "3                0.72             0.87               5                   223   \n",
       "4                0.37             0.52               2                   159   \n",
       "\n",
       "   time_spend_company  Work_accident  left  promotion_last_5years  sales  \\\n",
       "0                   3              0     1                      0  sales   \n",
       "1                   6              0     1                      0  sales   \n",
       "2                   4              0     1                      0  sales   \n",
       "3                   5              0     1                      0  sales   \n",
       "4                   3              0     1                      0  sales   \n",
       "\n",
       "   salary  \n",
       "0     low  \n",
       "1  medium  \n",
       "2  medium  \n",
       "3     low  \n",
       "4     low  "
      ]
     },
     "execution_count": 8,
     "metadata": {},
     "output_type": "execute_result"
    }
   ],
   "source": [
    "df.head()"
   ]
  },
  {
   "cell_type": "code",
   "execution_count": 9,
   "id": "dd342efd-f611-4901-95e3-e50a90eb6d10",
   "metadata": {
    "tags": []
   },
   "outputs": [
    {
     "data": {
      "text/html": [
       "<div>\n",
       "<style scoped>\n",
       "    .dataframe tbody tr th:only-of-type {\n",
       "        vertical-align: middle;\n",
       "    }\n",
       "\n",
       "    .dataframe tbody tr th {\n",
       "        vertical-align: top;\n",
       "    }\n",
       "\n",
       "    .dataframe thead th {\n",
       "        text-align: right;\n",
       "    }\n",
       "</style>\n",
       "<table border=\"1\" class=\"dataframe\">\n",
       "  <thead>\n",
       "    <tr style=\"text-align: right;\">\n",
       "      <th></th>\n",
       "      <th>satisfaction_level</th>\n",
       "      <th>last_evaluation</th>\n",
       "      <th>number_project</th>\n",
       "      <th>average_montly_hours</th>\n",
       "      <th>time_spend_company</th>\n",
       "      <th>Work_accident</th>\n",
       "      <th>left</th>\n",
       "      <th>promotion_last_5years</th>\n",
       "      <th>sales</th>\n",
       "      <th>salary</th>\n",
       "    </tr>\n",
       "  </thead>\n",
       "  <tbody>\n",
       "    <tr>\n",
       "      <th>14994</th>\n",
       "      <td>0.40</td>\n",
       "      <td>0.57</td>\n",
       "      <td>2</td>\n",
       "      <td>151</td>\n",
       "      <td>3</td>\n",
       "      <td>0</td>\n",
       "      <td>1</td>\n",
       "      <td>0</td>\n",
       "      <td>support</td>\n",
       "      <td>low</td>\n",
       "    </tr>\n",
       "    <tr>\n",
       "      <th>14995</th>\n",
       "      <td>0.37</td>\n",
       "      <td>0.48</td>\n",
       "      <td>2</td>\n",
       "      <td>160</td>\n",
       "      <td>3</td>\n",
       "      <td>0</td>\n",
       "      <td>1</td>\n",
       "      <td>0</td>\n",
       "      <td>support</td>\n",
       "      <td>low</td>\n",
       "    </tr>\n",
       "    <tr>\n",
       "      <th>14996</th>\n",
       "      <td>0.37</td>\n",
       "      <td>0.53</td>\n",
       "      <td>2</td>\n",
       "      <td>143</td>\n",
       "      <td>3</td>\n",
       "      <td>0</td>\n",
       "      <td>1</td>\n",
       "      <td>0</td>\n",
       "      <td>support</td>\n",
       "      <td>low</td>\n",
       "    </tr>\n",
       "    <tr>\n",
       "      <th>14997</th>\n",
       "      <td>0.11</td>\n",
       "      <td>0.96</td>\n",
       "      <td>6</td>\n",
       "      <td>280</td>\n",
       "      <td>4</td>\n",
       "      <td>0</td>\n",
       "      <td>1</td>\n",
       "      <td>0</td>\n",
       "      <td>support</td>\n",
       "      <td>low</td>\n",
       "    </tr>\n",
       "    <tr>\n",
       "      <th>14998</th>\n",
       "      <td>0.37</td>\n",
       "      <td>0.52</td>\n",
       "      <td>2</td>\n",
       "      <td>158</td>\n",
       "      <td>3</td>\n",
       "      <td>0</td>\n",
       "      <td>1</td>\n",
       "      <td>0</td>\n",
       "      <td>support</td>\n",
       "      <td>low</td>\n",
       "    </tr>\n",
       "  </tbody>\n",
       "</table>\n",
       "</div>"
      ],
      "text/plain": [
       "       satisfaction_level  last_evaluation  number_project  \\\n",
       "14994                0.40             0.57               2   \n",
       "14995                0.37             0.48               2   \n",
       "14996                0.37             0.53               2   \n",
       "14997                0.11             0.96               6   \n",
       "14998                0.37             0.52               2   \n",
       "\n",
       "       average_montly_hours  time_spend_company  Work_accident  left  \\\n",
       "14994                   151                   3              0     1   \n",
       "14995                   160                   3              0     1   \n",
       "14996                   143                   3              0     1   \n",
       "14997                   280                   4              0     1   \n",
       "14998                   158                   3              0     1   \n",
       "\n",
       "       promotion_last_5years    sales salary  \n",
       "14994                      0  support    low  \n",
       "14995                      0  support    low  \n",
       "14996                      0  support    low  \n",
       "14997                      0  support    low  \n",
       "14998                      0  support    low  "
      ]
     },
     "execution_count": 9,
     "metadata": {},
     "output_type": "execute_result"
    }
   ],
   "source": [
    "df.tail()"
   ]
  },
  {
   "cell_type": "code",
   "execution_count": 10,
   "id": "9b0bc428-4e1b-46f9-a2bc-443ac04800fe",
   "metadata": {
    "tags": []
   },
   "outputs": [
    {
     "data": {
      "text/plain": [
       "(14999, 10)"
      ]
     },
     "execution_count": 10,
     "metadata": {},
     "output_type": "execute_result"
    }
   ],
   "source": [
    "df.shape"
   ]
  },
  {
   "cell_type": "code",
   "execution_count": 11,
   "id": "5a83246c-af23-4e1a-8b9f-d06a39a52e63",
   "metadata": {
    "tags": []
   },
   "outputs": [
    {
     "data": {
      "text/plain": [
       "satisfaction_level       0\n",
       "last_evaluation          0\n",
       "number_project           0\n",
       "average_montly_hours     0\n",
       "time_spend_company       0\n",
       "Work_accident            0\n",
       "left                     0\n",
       "promotion_last_5years    0\n",
       "sales                    0\n",
       "salary                   0\n",
       "dtype: int64"
      ]
     },
     "execution_count": 11,
     "metadata": {},
     "output_type": "execute_result"
    }
   ],
   "source": [
    "df.isna().sum()"
   ]
  },
  {
   "cell_type": "code",
   "execution_count": 12,
   "id": "b7faa9cf-fb59-4d0a-9699-cc14d0ecd6cf",
   "metadata": {
    "tags": []
   },
   "outputs": [
    {
     "data": {
      "text/html": [
       "<div>\n",
       "<style scoped>\n",
       "    .dataframe tbody tr th:only-of-type {\n",
       "        vertical-align: middle;\n",
       "    }\n",
       "\n",
       "    .dataframe tbody tr th {\n",
       "        vertical-align: top;\n",
       "    }\n",
       "\n",
       "    .dataframe thead th {\n",
       "        text-align: right;\n",
       "    }\n",
       "</style>\n",
       "<table border=\"1\" class=\"dataframe\">\n",
       "  <thead>\n",
       "    <tr style=\"text-align: right;\">\n",
       "      <th></th>\n",
       "      <th>satisfaction_level</th>\n",
       "      <th>last_evaluation</th>\n",
       "      <th>number_project</th>\n",
       "      <th>average_montly_hours</th>\n",
       "      <th>time_spend_company</th>\n",
       "      <th>Work_accident</th>\n",
       "      <th>left</th>\n",
       "      <th>promotion_last_5years</th>\n",
       "    </tr>\n",
       "  </thead>\n",
       "  <tbody>\n",
       "    <tr>\n",
       "      <th>count</th>\n",
       "      <td>14999.000000</td>\n",
       "      <td>14999.000000</td>\n",
       "      <td>14999.000000</td>\n",
       "      <td>14999.000000</td>\n",
       "      <td>14999.000000</td>\n",
       "      <td>14999.000000</td>\n",
       "      <td>14999.000000</td>\n",
       "      <td>14999.000000</td>\n",
       "    </tr>\n",
       "    <tr>\n",
       "      <th>mean</th>\n",
       "      <td>0.612834</td>\n",
       "      <td>0.716102</td>\n",
       "      <td>3.803054</td>\n",
       "      <td>201.050337</td>\n",
       "      <td>3.498233</td>\n",
       "      <td>0.144610</td>\n",
       "      <td>0.238083</td>\n",
       "      <td>0.021268</td>\n",
       "    </tr>\n",
       "    <tr>\n",
       "      <th>std</th>\n",
       "      <td>0.248631</td>\n",
       "      <td>0.171169</td>\n",
       "      <td>1.232592</td>\n",
       "      <td>49.943099</td>\n",
       "      <td>1.460136</td>\n",
       "      <td>0.351719</td>\n",
       "      <td>0.425924</td>\n",
       "      <td>0.144281</td>\n",
       "    </tr>\n",
       "    <tr>\n",
       "      <th>min</th>\n",
       "      <td>0.090000</td>\n",
       "      <td>0.360000</td>\n",
       "      <td>2.000000</td>\n",
       "      <td>96.000000</td>\n",
       "      <td>2.000000</td>\n",
       "      <td>0.000000</td>\n",
       "      <td>0.000000</td>\n",
       "      <td>0.000000</td>\n",
       "    </tr>\n",
       "    <tr>\n",
       "      <th>25%</th>\n",
       "      <td>0.440000</td>\n",
       "      <td>0.560000</td>\n",
       "      <td>3.000000</td>\n",
       "      <td>156.000000</td>\n",
       "      <td>3.000000</td>\n",
       "      <td>0.000000</td>\n",
       "      <td>0.000000</td>\n",
       "      <td>0.000000</td>\n",
       "    </tr>\n",
       "    <tr>\n",
       "      <th>50%</th>\n",
       "      <td>0.640000</td>\n",
       "      <td>0.720000</td>\n",
       "      <td>4.000000</td>\n",
       "      <td>200.000000</td>\n",
       "      <td>3.000000</td>\n",
       "      <td>0.000000</td>\n",
       "      <td>0.000000</td>\n",
       "      <td>0.000000</td>\n",
       "    </tr>\n",
       "    <tr>\n",
       "      <th>75%</th>\n",
       "      <td>0.820000</td>\n",
       "      <td>0.870000</td>\n",
       "      <td>5.000000</td>\n",
       "      <td>245.000000</td>\n",
       "      <td>4.000000</td>\n",
       "      <td>0.000000</td>\n",
       "      <td>0.000000</td>\n",
       "      <td>0.000000</td>\n",
       "    </tr>\n",
       "    <tr>\n",
       "      <th>max</th>\n",
       "      <td>1.000000</td>\n",
       "      <td>1.000000</td>\n",
       "      <td>7.000000</td>\n",
       "      <td>310.000000</td>\n",
       "      <td>10.000000</td>\n",
       "      <td>1.000000</td>\n",
       "      <td>1.000000</td>\n",
       "      <td>1.000000</td>\n",
       "    </tr>\n",
       "  </tbody>\n",
       "</table>\n",
       "</div>"
      ],
      "text/plain": [
       "       satisfaction_level  last_evaluation  number_project  \\\n",
       "count        14999.000000     14999.000000    14999.000000   \n",
       "mean             0.612834         0.716102        3.803054   \n",
       "std              0.248631         0.171169        1.232592   \n",
       "min              0.090000         0.360000        2.000000   \n",
       "25%              0.440000         0.560000        3.000000   \n",
       "50%              0.640000         0.720000        4.000000   \n",
       "75%              0.820000         0.870000        5.000000   \n",
       "max              1.000000         1.000000        7.000000   \n",
       "\n",
       "       average_montly_hours  time_spend_company  Work_accident          left  \\\n",
       "count          14999.000000        14999.000000   14999.000000  14999.000000   \n",
       "mean             201.050337            3.498233       0.144610      0.238083   \n",
       "std               49.943099            1.460136       0.351719      0.425924   \n",
       "min               96.000000            2.000000       0.000000      0.000000   \n",
       "25%              156.000000            3.000000       0.000000      0.000000   \n",
       "50%              200.000000            3.000000       0.000000      0.000000   \n",
       "75%              245.000000            4.000000       0.000000      0.000000   \n",
       "max              310.000000           10.000000       1.000000      1.000000   \n",
       "\n",
       "       promotion_last_5years  \n",
       "count           14999.000000  \n",
       "mean                0.021268  \n",
       "std                 0.144281  \n",
       "min                 0.000000  \n",
       "25%                 0.000000  \n",
       "50%                 0.000000  \n",
       "75%                 0.000000  \n",
       "max                 1.000000  "
      ]
     },
     "execution_count": 12,
     "metadata": {},
     "output_type": "execute_result"
    }
   ],
   "source": [
    "df.describe()"
   ]
  },
  {
   "cell_type": "code",
   "execution_count": 13,
   "id": "9af9b6d8-a48b-4814-8dfe-faab59e7dbb2",
   "metadata": {
    "tags": []
   },
   "outputs": [
    {
     "data": {
      "text/plain": [
       "sales\n",
       "sales          4140\n",
       "technical      2720\n",
       "support        2229\n",
       "IT             1227\n",
       "product_mng     902\n",
       "marketing       858\n",
       "RandD           787\n",
       "accounting      767\n",
       "hr              739\n",
       "management      630\n",
       "Name: count, dtype: int64"
      ]
     },
     "execution_count": 13,
     "metadata": {},
     "output_type": "execute_result"
    }
   ],
   "source": [
    "df['sales'].value_counts()"
   ]
  },
  {
   "cell_type": "code",
   "execution_count": 15,
   "id": "54df1f7d-cd3d-492f-943c-cce2d7b0bde8",
   "metadata": {
    "tags": []
   },
   "outputs": [
    {
     "data": {
      "text/plain": [
       "Index(['satisfaction_level', 'last_evaluation', 'number_project',\n",
       "       'average_montly_hours', 'time_spend_company', 'Work_accident', 'left',\n",
       "       'promotion_last_5years', 'department', 'salary'],\n",
       "      dtype='object')"
      ]
     },
     "execution_count": 15,
     "metadata": {},
     "output_type": "execute_result"
    }
   ],
   "source": [
    "df.rename(columns={'sales':'department'},inplace=True)\n",
    "df.columns"
   ]
  },
  {
   "cell_type": "code",
   "execution_count": 16,
   "id": "fd75aa92-6051-4d03-a947-7f0d47ddf59a",
   "metadata": {
    "tags": []
   },
   "outputs": [
    {
     "data": {
      "text/plain": [
       "salary\n",
       "low       7316\n",
       "medium    6446\n",
       "high      1237\n",
       "Name: count, dtype: int64"
      ]
     },
     "execution_count": 16,
     "metadata": {},
     "output_type": "execute_result"
    }
   ],
   "source": [
    "df['salary'].value_counts()"
   ]
  },
  {
   "cell_type": "code",
   "execution_count": 18,
   "id": "a742609b-a534-4313-ab88-2282d3eb018e",
   "metadata": {
    "tags": []
   },
   "outputs": [],
   "source": [
    "df_num = df.select_dtypes(exclude=['object'])"
   ]
  },
  {
   "cell_type": "code",
   "execution_count": 20,
   "id": "2e3036b5-db12-4e74-8d5d-69e49d23768b",
   "metadata": {
    "tags": []
   },
   "outputs": [
    {
     "data": {
      "text/html": [
       "<style type=\"text/css\">\n",
       "#T_5b042_row0_col0, #T_5b042_row1_col1, #T_5b042_row2_col2, #T_5b042_row3_col3, #T_5b042_row4_col4, #T_5b042_row5_col5, #T_5b042_row6_col6, #T_5b042_row7_col7 {\n",
       "  background-color: #023858;\n",
       "  color: #f1f1f1;\n",
       "}\n",
       "#T_5b042_row0_col1 {\n",
       "  background-color: #eee9f3;\n",
       "  color: #000000;\n",
       "}\n",
       "#T_5b042_row0_col2, #T_5b042_row0_col3, #T_5b042_row0_col4, #T_5b042_row0_col6, #T_5b042_row5_col1, #T_5b042_row6_col0, #T_5b042_row6_col5, #T_5b042_row6_col7, #T_5b042_row7_col1 {\n",
       "  background-color: #fff7fb;\n",
       "  color: #000000;\n",
       "}\n",
       "#T_5b042_row0_col5 {\n",
       "  background-color: #dfddec;\n",
       "  color: #000000;\n",
       "}\n",
       "#T_5b042_row0_col7, #T_5b042_row6_col3 {\n",
       "  background-color: #f2ecf5;\n",
       "  color: #000000;\n",
       "}\n",
       "#T_5b042_row1_col0, #T_5b042_row1_col3, #T_5b042_row2_col1 {\n",
       "  background-color: #adc1dd;\n",
       "  color: #000000;\n",
       "}\n",
       "#T_5b042_row1_col2 {\n",
       "  background-color: #8fb4d6;\n",
       "  color: #000000;\n",
       "}\n",
       "#T_5b042_row1_col4, #T_5b042_row3_col4, #T_5b042_row4_col0 {\n",
       "  background-color: #d9d8ea;\n",
       "  color: #000000;\n",
       "}\n",
       "#T_5b042_row1_col5, #T_5b042_row3_col5 {\n",
       "  background-color: #ece7f2;\n",
       "  color: #000000;\n",
       "}\n",
       "#T_5b042_row1_col6 {\n",
       "  background-color: #c5cce3;\n",
       "  color: #000000;\n",
       "}\n",
       "#T_5b042_row1_col7 {\n",
       "  background-color: #f8f1f8;\n",
       "  color: #000000;\n",
       "}\n",
       "#T_5b042_row2_col0 {\n",
       "  background-color: #e0deed;\n",
       "  color: #000000;\n",
       "}\n",
       "#T_5b042_row2_col3 {\n",
       "  background-color: #91b5d6;\n",
       "  color: #000000;\n",
       "}\n",
       "#T_5b042_row2_col4 {\n",
       "  background-color: #c9cee4;\n",
       "  color: #000000;\n",
       "}\n",
       "#T_5b042_row2_col5 {\n",
       "  background-color: #ebe6f2;\n",
       "  color: #000000;\n",
       "}\n",
       "#T_5b042_row2_col6 {\n",
       "  background-color: #c1cae2;\n",
       "  color: #000000;\n",
       "}\n",
       "#T_5b042_row2_col7, #T_5b042_row3_col7 {\n",
       "  background-color: #f7f0f7;\n",
       "  color: #000000;\n",
       "}\n",
       "#T_5b042_row3_col0 {\n",
       "  background-color: #cccfe5;\n",
       "  color: #000000;\n",
       "}\n",
       "#T_5b042_row3_col1 {\n",
       "  background-color: #b0c2de;\n",
       "  color: #000000;\n",
       "}\n",
       "#T_5b042_row3_col2 {\n",
       "  background-color: #78abd0;\n",
       "  color: #f1f1f1;\n",
       "}\n",
       "#T_5b042_row3_col6 {\n",
       "  background-color: #b5c4df;\n",
       "  color: #000000;\n",
       "}\n",
       "#T_5b042_row4_col1 {\n",
       "  background-color: #e9e5f1;\n",
       "  color: #000000;\n",
       "}\n",
       "#T_5b042_row4_col2, #T_5b042_row7_col0 {\n",
       "  background-color: #c0c9e2;\n",
       "  color: #000000;\n",
       "}\n",
       "#T_5b042_row4_col3, #T_5b042_row6_col2 {\n",
       "  background-color: #e7e3f0;\n",
       "  color: #000000;\n",
       "}\n",
       "#T_5b042_row4_col5 {\n",
       "  background-color: #eae6f1;\n",
       "  color: #000000;\n",
       "}\n",
       "#T_5b042_row4_col6 {\n",
       "  background-color: #a2bcda;\n",
       "  color: #000000;\n",
       "}\n",
       "#T_5b042_row4_col7 {\n",
       "  background-color: #ede7f2;\n",
       "  color: #000000;\n",
       "}\n",
       "#T_5b042_row5_col0 {\n",
       "  background-color: #b8c6e0;\n",
       "  color: #000000;\n",
       "}\n",
       "#T_5b042_row5_col2, #T_5b042_row7_col2 {\n",
       "  background-color: #ede8f3;\n",
       "  color: #000000;\n",
       "}\n",
       "#T_5b042_row5_col3 {\n",
       "  background-color: #fef6fa;\n",
       "  color: #000000;\n",
       "}\n",
       "#T_5b042_row5_col4 {\n",
       "  background-color: #f1ebf5;\n",
       "  color: #000000;\n",
       "}\n",
       "#T_5b042_row5_col6 {\n",
       "  background-color: #e2dfee;\n",
       "  color: #000000;\n",
       "}\n",
       "#T_5b042_row5_col7 {\n",
       "  background-color: #f1ebf4;\n",
       "  color: #000000;\n",
       "}\n",
       "#T_5b042_row6_col1, #T_5b042_row7_col3 {\n",
       "  background-color: #fdf5fa;\n",
       "  color: #000000;\n",
       "}\n",
       "#T_5b042_row6_col4 {\n",
       "  background-color: #d6d6e9;\n",
       "  color: #000000;\n",
       "}\n",
       "#T_5b042_row7_col4 {\n",
       "  background-color: #e6e2ef;\n",
       "  color: #000000;\n",
       "}\n",
       "#T_5b042_row7_col5 {\n",
       "  background-color: #e3e0ee;\n",
       "  color: #000000;\n",
       "}\n",
       "#T_5b042_row7_col6 {\n",
       "  background-color: #d3d4e7;\n",
       "  color: #000000;\n",
       "}\n",
       "</style>\n",
       "<table id=\"T_5b042\">\n",
       "  <thead>\n",
       "    <tr>\n",
       "      <th class=\"blank level0\" >&nbsp;</th>\n",
       "      <th id=\"T_5b042_level0_col0\" class=\"col_heading level0 col0\" >satisfaction_level</th>\n",
       "      <th id=\"T_5b042_level0_col1\" class=\"col_heading level0 col1\" >last_evaluation</th>\n",
       "      <th id=\"T_5b042_level0_col2\" class=\"col_heading level0 col2\" >number_project</th>\n",
       "      <th id=\"T_5b042_level0_col3\" class=\"col_heading level0 col3\" >average_montly_hours</th>\n",
       "      <th id=\"T_5b042_level0_col4\" class=\"col_heading level0 col4\" >time_spend_company</th>\n",
       "      <th id=\"T_5b042_level0_col5\" class=\"col_heading level0 col5\" >Work_accident</th>\n",
       "      <th id=\"T_5b042_level0_col6\" class=\"col_heading level0 col6\" >left</th>\n",
       "      <th id=\"T_5b042_level0_col7\" class=\"col_heading level0 col7\" >promotion_last_5years</th>\n",
       "    </tr>\n",
       "  </thead>\n",
       "  <tbody>\n",
       "    <tr>\n",
       "      <th id=\"T_5b042_level0_row0\" class=\"row_heading level0 row0\" >satisfaction_level</th>\n",
       "      <td id=\"T_5b042_row0_col0\" class=\"data row0 col0\" >1.000000</td>\n",
       "      <td id=\"T_5b042_row0_col1\" class=\"data row0 col1\" >0.105021</td>\n",
       "      <td id=\"T_5b042_row0_col2\" class=\"data row0 col2\" >-0.142970</td>\n",
       "      <td id=\"T_5b042_row0_col3\" class=\"data row0 col3\" >-0.020048</td>\n",
       "      <td id=\"T_5b042_row0_col4\" class=\"data row0 col4\" >-0.100866</td>\n",
       "      <td id=\"T_5b042_row0_col5\" class=\"data row0 col5\" >0.058697</td>\n",
       "      <td id=\"T_5b042_row0_col6\" class=\"data row0 col6\" >-0.388375</td>\n",
       "      <td id=\"T_5b042_row0_col7\" class=\"data row0 col7\" >0.025605</td>\n",
       "    </tr>\n",
       "    <tr>\n",
       "      <th id=\"T_5b042_level0_row1\" class=\"row_heading level0 row1\" >last_evaluation</th>\n",
       "      <td id=\"T_5b042_row1_col0\" class=\"data row1 col0\" >0.105021</td>\n",
       "      <td id=\"T_5b042_row1_col1\" class=\"data row1 col1\" >1.000000</td>\n",
       "      <td id=\"T_5b042_row1_col2\" class=\"data row1 col2\" >0.349333</td>\n",
       "      <td id=\"T_5b042_row1_col3\" class=\"data row1 col3\" >0.339742</td>\n",
       "      <td id=\"T_5b042_row1_col4\" class=\"data row1 col4\" >0.131591</td>\n",
       "      <td id=\"T_5b042_row1_col5\" class=\"data row1 col5\" >-0.007104</td>\n",
       "      <td id=\"T_5b042_row1_col6\" class=\"data row1 col6\" >0.006567</td>\n",
       "      <td id=\"T_5b042_row1_col7\" class=\"data row1 col7\" >-0.008684</td>\n",
       "    </tr>\n",
       "    <tr>\n",
       "      <th id=\"T_5b042_level0_row2\" class=\"row_heading level0 row2\" >number_project</th>\n",
       "      <td id=\"T_5b042_row2_col0\" class=\"data row2 col0\" >-0.142970</td>\n",
       "      <td id=\"T_5b042_row2_col1\" class=\"data row2 col1\" >0.349333</td>\n",
       "      <td id=\"T_5b042_row2_col2\" class=\"data row2 col2\" >1.000000</td>\n",
       "      <td id=\"T_5b042_row2_col3\" class=\"data row2 col3\" >0.417211</td>\n",
       "      <td id=\"T_5b042_row2_col4\" class=\"data row2 col4\" >0.196786</td>\n",
       "      <td id=\"T_5b042_row2_col5\" class=\"data row2 col5\" >-0.004741</td>\n",
       "      <td id=\"T_5b042_row2_col6\" class=\"data row2 col6\" >0.023787</td>\n",
       "      <td id=\"T_5b042_row2_col7\" class=\"data row2 col7\" >-0.006064</td>\n",
       "    </tr>\n",
       "    <tr>\n",
       "      <th id=\"T_5b042_level0_row3\" class=\"row_heading level0 row3\" >average_montly_hours</th>\n",
       "      <td id=\"T_5b042_row3_col0\" class=\"data row3 col0\" >-0.020048</td>\n",
       "      <td id=\"T_5b042_row3_col1\" class=\"data row3 col1\" >0.339742</td>\n",
       "      <td id=\"T_5b042_row3_col2\" class=\"data row3 col2\" >0.417211</td>\n",
       "      <td id=\"T_5b042_row3_col3\" class=\"data row3 col3\" >1.000000</td>\n",
       "      <td id=\"T_5b042_row3_col4\" class=\"data row3 col4\" >0.127755</td>\n",
       "      <td id=\"T_5b042_row3_col5\" class=\"data row3 col5\" >-0.010143</td>\n",
       "      <td id=\"T_5b042_row3_col6\" class=\"data row3 col6\" >0.071287</td>\n",
       "      <td id=\"T_5b042_row3_col7\" class=\"data row3 col7\" >-0.003544</td>\n",
       "    </tr>\n",
       "    <tr>\n",
       "      <th id=\"T_5b042_level0_row4\" class=\"row_heading level0 row4\" >time_spend_company</th>\n",
       "      <td id=\"T_5b042_row4_col0\" class=\"data row4 col0\" >-0.100866</td>\n",
       "      <td id=\"T_5b042_row4_col1\" class=\"data row4 col1\" >0.131591</td>\n",
       "      <td id=\"T_5b042_row4_col2\" class=\"data row4 col2\" >0.196786</td>\n",
       "      <td id=\"T_5b042_row4_col3\" class=\"data row4 col3\" >0.127755</td>\n",
       "      <td id=\"T_5b042_row4_col4\" class=\"data row4 col4\" >1.000000</td>\n",
       "      <td id=\"T_5b042_row4_col5\" class=\"data row4 col5\" >0.002120</td>\n",
       "      <td id=\"T_5b042_row4_col6\" class=\"data row4 col6\" >0.144822</td>\n",
       "      <td id=\"T_5b042_row4_col7\" class=\"data row4 col7\" >0.067433</td>\n",
       "    </tr>\n",
       "    <tr>\n",
       "      <th id=\"T_5b042_level0_row5\" class=\"row_heading level0 row5\" >Work_accident</th>\n",
       "      <td id=\"T_5b042_row5_col0\" class=\"data row5 col0\" >0.058697</td>\n",
       "      <td id=\"T_5b042_row5_col1\" class=\"data row5 col1\" >-0.007104</td>\n",
       "      <td id=\"T_5b042_row5_col2\" class=\"data row5 col2\" >-0.004741</td>\n",
       "      <td id=\"T_5b042_row5_col3\" class=\"data row5 col3\" >-0.010143</td>\n",
       "      <td id=\"T_5b042_row5_col4\" class=\"data row5 col4\" >0.002120</td>\n",
       "      <td id=\"T_5b042_row5_col5\" class=\"data row5 col5\" >1.000000</td>\n",
       "      <td id=\"T_5b042_row5_col6\" class=\"data row5 col6\" >-0.154622</td>\n",
       "      <td id=\"T_5b042_row5_col7\" class=\"data row5 col7\" >0.039245</td>\n",
       "    </tr>\n",
       "    <tr>\n",
       "      <th id=\"T_5b042_level0_row6\" class=\"row_heading level0 row6\" >left</th>\n",
       "      <td id=\"T_5b042_row6_col0\" class=\"data row6 col0\" >-0.388375</td>\n",
       "      <td id=\"T_5b042_row6_col1\" class=\"data row6 col1\" >0.006567</td>\n",
       "      <td id=\"T_5b042_row6_col2\" class=\"data row6 col2\" >0.023787</td>\n",
       "      <td id=\"T_5b042_row6_col3\" class=\"data row6 col3\" >0.071287</td>\n",
       "      <td id=\"T_5b042_row6_col4\" class=\"data row6 col4\" >0.144822</td>\n",
       "      <td id=\"T_5b042_row6_col5\" class=\"data row6 col5\" >-0.154622</td>\n",
       "      <td id=\"T_5b042_row6_col6\" class=\"data row6 col6\" >1.000000</td>\n",
       "      <td id=\"T_5b042_row6_col7\" class=\"data row6 col7\" >-0.061788</td>\n",
       "    </tr>\n",
       "    <tr>\n",
       "      <th id=\"T_5b042_level0_row7\" class=\"row_heading level0 row7\" >promotion_last_5years</th>\n",
       "      <td id=\"T_5b042_row7_col0\" class=\"data row7 col0\" >0.025605</td>\n",
       "      <td id=\"T_5b042_row7_col1\" class=\"data row7 col1\" >-0.008684</td>\n",
       "      <td id=\"T_5b042_row7_col2\" class=\"data row7 col2\" >-0.006064</td>\n",
       "      <td id=\"T_5b042_row7_col3\" class=\"data row7 col3\" >-0.003544</td>\n",
       "      <td id=\"T_5b042_row7_col4\" class=\"data row7 col4\" >0.067433</td>\n",
       "      <td id=\"T_5b042_row7_col5\" class=\"data row7 col5\" >0.039245</td>\n",
       "      <td id=\"T_5b042_row7_col6\" class=\"data row7 col6\" >-0.061788</td>\n",
       "      <td id=\"T_5b042_row7_col7\" class=\"data row7 col7\" >1.000000</td>\n",
       "    </tr>\n",
       "  </tbody>\n",
       "</table>\n"
      ],
      "text/plain": [
       "<pandas.io.formats.style.Styler at 0x1c968d0ad90>"
      ]
     },
     "execution_count": 20,
     "metadata": {},
     "output_type": "execute_result"
    }
   ],
   "source": [
    "corr = df_num.corr()\n",
    "corr.style.background_gradient()"
   ]
  },
  {
   "cell_type": "code",
   "execution_count": 22,
   "id": "d1d71592-92f0-4ca8-9123-58ca4df58585",
   "metadata": {
    "tags": []
   },
   "outputs": [
    {
     "data": {
      "image/png": "[encoded data removed]",
      "text/plain": [
       "<Figure size 800x800 with 2 Axes>"
      ]
     },
     "metadata": {},
     "output_type": "display_data"
    }
   ],
   "source": [
    "plt.figure(figsize=(8,8))\n",
    "sns.heatmap(df_num.corr(),annot=True);"
   ]
  },
  {
   "cell_type": "code",
   "execution_count": 24,
   "id": "4077059a-a64e-433c-ae36-88fe5c7817b8",
   "metadata": {
    "tags": []
   },
   "outputs": [
    {
     "data": {
      "image/png": "[encoded data removed]",
      "text/plain": [
       "<Figure size 640x480 with 1 Axes>"
      ]
     },
     "metadata": {},
     "output_type": "display_data"
    }
   ],
   "source": [
    "sns.histplot(data = df,x=\"satisfaction_level\", kde = True,bins=20);"
   ]
  },
  {
   "cell_type": "code",
   "execution_count": 25,
   "id": "3f2f3d86-c6ae-47bf-a118-4ca76c6d8193",
   "metadata": {
    "tags": []
   },
   "outputs": [
    {
     "data": {
      "image/png": "[encoded data removed]",
      "text/plain": [
       "<Figure size 640x480 with 1 Axes>"
      ]
     },
     "metadata": {},
     "output_type": "display_data"
    }
   ],
   "source": [
    "sns.histplot(data = df,x=\"last_evaluation\", kde = True,bins=20);"
   ]
  },
  {
   "cell_type": "code",
   "execution_count": 26,
   "id": "c2a7bc5c-7a79-4dc7-9598-5029c3af149b",
   "metadata": {
    "tags": []
   },
   "outputs": [
    {
     "data": {
      "image/png": "[encoded data removed]",
      "text/plain": [
       "<Figure size 640x480 with 1 Axes>"
      ]
     },
     "metadata": {},
     "output_type": "display_data"
    }
   ],
   "source": [
    "sns.histplot(data = df,x=\"average_montly_hours\", kde = True,bins=20);"
   ]
  },
  {
   "cell_type": "code",
   "execution_count": 27,
   "id": "5af3c073-519f-477d-a517-ed3d0a4e14af",
   "metadata": {
    "tags": []
   },
   "outputs": [
    {
     "data": {
      "image/png": "[encoded data removed]",
      "text/plain": [
       "<Figure size 640x480 with 1 Axes>"
      ]
     },
     "metadata": {},
     "output_type": "display_data"
    }
   ],
   "source": [
    "sns.countplot(data=df, x='number_project', hue='left');"
   ]
  },
  {
   "cell_type": "markdown",
   "id": "3bdc8b9d-e248-4a54-afdf-6cd37fef6b3f",
   "metadata": {},
   "source": [
    "Perform clustering of Employees who left based on their satisfaction and evaluation."
   ]
  },
  {
   "cell_type": "code",
   "execution_count": 48,
   "id": "d903c423-29ea-46c9-ac12-aa26a4594200",
   "metadata": {},
   "outputs": [],
   "source": [
    "X = df.loc[:,['satisfaction_level','last_evaluation','left']]"
   ]
  },
  {
   "cell_type": "code",
   "execution_count": 49,
   "id": "21e0958b-129f-4aa8-98e4-8c1705acbea2",
   "metadata": {},
   "outputs": [],
   "source": [
    "from sklearn.cluster import KMeans\n",
    "from sklearn.metrics import silhouette_score\n",
    "import sklearn.cluster as cluster"
   ]
  },
  {
   "cell_type": "code",
   "execution_count": 50,
   "id": "0567425e-7f29-494d-9f84-df90644dffd6",
   "metadata": {
    "tags": []
   },
   "outputs": [],
   "source": [
    "K = range(1,12)\n",
    "wss = []\n",
    "for k in K:\n",
    "    km=cluster.KMeans(n_clusters=k,init='k-means++')\n",
    "    km.fit(X)\n",
    "    wss_iter =km.inertia_\n",
    "    wss.append(wss_iter)"
   ]
  },
  {
   "cell_type": "markdown",
   "id": "68bac633-032a-4521-acef-0c581b7d4d67",
   "metadata": {
    "tags": []
   },
   "source": [
    "Pre-Process the data by converting categorical columns to numerical columns by Applying get_dummies() to the categorical variables."
   ]
  },
  {
   "cell_type": "code",
   "execution_count": 51,
   "id": "39bd26e3-cde2-42da-847f-75b08789c5e7",
   "metadata": {},
   "outputs": [
    {
     "data": {
      "text/html": [
       "<div>\n",
       "<style scoped>\n",
       "    .dataframe tbody tr th:only-of-type {\n",
       "        vertical-align: middle;\n",
       "    }\n",
       "\n",
       "    .dataframe tbody tr th {\n",
       "        vertical-align: top;\n",
       "    }\n",
       "\n",
       "    .dataframe thead th {\n",
       "        text-align: right;\n",
       "    }\n",
       "</style>\n",
       "<table border=\"1\" class=\"dataframe\">\n",
       "  <thead>\n",
       "    <tr style=\"text-align: right;\">\n",
       "      <th></th>\n",
       "      <th>Clusters</th>\n",
       "      <th>WSS</th>\n",
       "    </tr>\n",
       "  </thead>\n",
       "  <tbody>\n",
       "    <tr>\n",
       "      <th>0</th>\n",
       "      <td>1</td>\n",
       "      <td>4087.365998</td>\n",
       "    </tr>\n",
       "    <tr>\n",
       "      <th>1</th>\n",
       "      <td>2</td>\n",
       "      <td>1226.695361</td>\n",
       "    </tr>\n",
       "    <tr>\n",
       "      <th>2</th>\n",
       "      <td>3</td>\n",
       "      <td>867.968167</td>\n",
       "    </tr>\n",
       "    <tr>\n",
       "      <th>3</th>\n",
       "      <td>4</td>\n",
       "      <td>634.491362</td>\n",
       "    </tr>\n",
       "    <tr>\n",
       "      <th>4</th>\n",
       "      <td>5</td>\n",
       "      <td>492.161149</td>\n",
       "    </tr>\n",
       "    <tr>\n",
       "      <th>5</th>\n",
       "      <td>6</td>\n",
       "      <td>364.442902</td>\n",
       "    </tr>\n",
       "    <tr>\n",
       "      <th>6</th>\n",
       "      <td>7</td>\n",
       "      <td>275.077326</td>\n",
       "    </tr>\n",
       "    <tr>\n",
       "      <th>7</th>\n",
       "      <td>8</td>\n",
       "      <td>207.586501</td>\n",
       "    </tr>\n",
       "    <tr>\n",
       "      <th>8</th>\n",
       "      <td>9</td>\n",
       "      <td>179.216281</td>\n",
       "    </tr>\n",
       "    <tr>\n",
       "      <th>9</th>\n",
       "      <td>10</td>\n",
       "      <td>158.193569</td>\n",
       "    </tr>\n",
       "    <tr>\n",
       "      <th>10</th>\n",
       "      <td>11</td>\n",
       "      <td>141.136673</td>\n",
       "    </tr>\n",
       "  </tbody>\n",
       "</table>\n",
       "</div>"
      ],
      "text/plain": [
       "    Clusters          WSS\n",
       "0          1  4087.365998\n",
       "1          2  1226.695361\n",
       "2          3   867.968167\n",
       "3          4   634.491362\n",
       "4          5   492.161149\n",
       "5          6   364.442902\n",
       "6          7   275.077326\n",
       "7          8   207.586501\n",
       "8          9   179.216281\n",
       "9         10   158.193569\n",
       "10        11   141.136673"
      ]
     },
     "execution_count": 51,
     "metadata": {},
     "output_type": "execute_result"
    }
   ],
   "source": [
    "mycenters = pd.DataFrame({'Clusters' : K, 'WSS' : wss})\n",
    "mycenters"
   ]
  },
  {
   "cell_type": "code",
   "execution_count": 53,
   "id": "8250c803-f84b-472e-ac3b-226eefb30fdf",
   "metadata": {},
   "outputs": [
    {
     "data": {
      "image/png": "[encoded data removed]",
      "text/plain": [
       "<Figure size 640x480 with 1 Axes>"
      ]
     },
     "metadata": {},
     "output_type": "display_data"
    }
   ],
   "source": [
    "sns.scatterplot(x = 'Clusters', y = 'WSS', data=mycenters, marker='+');"
   ]
  },
  {
   "cell_type": "code",
   "execution_count": 65,
   "id": "24dfb507-abb2-4337-967b-cd5e78de2c2c",
   "metadata": {},
   "outputs": [
    {
     "name": "stdout",
     "output_type": "stream",
     "text": [
      "Silhouette score for k(clusters) = 2 is 0.6841461688952668\n",
      "Silhouette score for k(clusters) = 3 is 0.44747149919099943\n",
      "Silhouette score for k(clusters) = 4 is 0.4502507677833391\n",
      "Silhouette score for k(clusters) = 5 is 0.42469459456843084\n",
      "Silhouette score for k(clusters) = 6 is 0.46517852348207783\n",
      "Silhouette score for k(clusters) = 7 is 0.4750289988903112\n",
      "Silhouette score for k(clusters) = 8 is 0.4993388952364005\n",
      "Silhouette score for k(clusters) = 9 is 0.5000613102431384\n",
      "Silhouette score for k(clusters) = 10 is 0.4973321824138641\n",
      "Silhouette score for k(clusters) = 11 is 0.49672831346220236\n",
      "Silhouette score for k(clusters) = 12 is 0.49010085947193033\n"
     ]
    }
   ],
   "source": [
    "for i in range(2,13):\n",
    "    labels=cluster.KMeans(n_clusters=i,init='k-means++',random_state=200).fit(X).labels_\n",
    "    print('Silhouette score for k(clusters) = '+str(i)+' is '\n",
    "         +str(metrics.silhouette_score(X,labels,metric='euclidean',sample_size=1000,random_state=200)))"
   ]
  },
  {
   "cell_type": "code",
   "execution_count": 85,
   "id": "14b4bbf1-eb98-4162-93d0-96a61de36297",
   "metadata": {},
   "outputs": [],
   "source": [
    "kmeans = cluster.KMeans(n_clusters=9,init='k-means++')\n",
    "kmeans = kmeans.fit(df[['left','satisfaction_level','last_evaluation']])"
   ]
  },
  {
   "cell_type": "code",
   "execution_count": 71,
   "id": "58864215-fe23-410f-bb13-ed40b34526dc",
   "metadata": {},
   "outputs": [],
   "source": [
    "import sklearn.metrics as metrics"
   ]
  },
  {
   "cell_type": "code",
   "execution_count": 87,
   "id": "09a8416b-9f6a-4e7b-8403-81fb113dcab2",
   "metadata": {},
   "outputs": [],
   "source": [
    "df['Clusters'] = kmeans.labels_"
   ]
  },
  {
   "cell_type": "code",
   "execution_count": 86,
   "id": "f230d487-228c-4d74-b036-f6833c6fd8e5",
   "metadata": {},
   "outputs": [
    {
     "ename": "ValueError",
     "evalue": "Could not interpret value `Clusters` for parameter `hue`",
     "output_type": "error",
     "traceback": [
      "\u001b[1;31m---------------------------------------------------------------------------\u001b[0m",
      "\u001b[1;31mValueError\u001b[0m                                Traceback (most recent call last)",
      "Cell \u001b[1;32mIn[86], line 1\u001b[0m\n\u001b[1;32m----> 1\u001b[0m \u001b[43msns\u001b[49m\u001b[38;5;241;43m.\u001b[39;49m\u001b[43mscatterplot\u001b[49m\u001b[43m(\u001b[49m\u001b[43mx\u001b[49m\u001b[38;5;241;43m=\u001b[39;49m\u001b[38;5;124;43m'\u001b[39;49m\u001b[38;5;124;43msatisfaction_level\u001b[39;49m\u001b[38;5;124;43m'\u001b[39;49m\u001b[43m,\u001b[49m\u001b[43m \u001b[49m\u001b[43my\u001b[49m\u001b[43m \u001b[49m\u001b[38;5;241;43m=\u001b[39;49m\u001b[43m \u001b[49m\u001b[38;5;124;43m'\u001b[39;49m\u001b[38;5;124;43mleft\u001b[39;49m\u001b[38;5;124;43m'\u001b[39;49m\u001b[43m,\u001b[49m\u001b[43mhue\u001b[49m\u001b[38;5;241;43m=\u001b[39;49m\u001b[38;5;124;43m'\u001b[39;49m\u001b[38;5;124;43mClusters\u001b[39;49m\u001b[38;5;124;43m'\u001b[39;49m\u001b[43m \u001b[49m\u001b[43m,\u001b[49m\u001b[43mdata\u001b[49m\u001b[43m \u001b[49m\u001b[38;5;241;43m=\u001b[39;49m\u001b[43m \u001b[49m\u001b[43mX\u001b[49m\u001b[43m)\u001b[49m;\n",
      "File \u001b[1;32m~\\anaconda3\\Lib\\site-packages\\seaborn\\relational.py:742\u001b[0m, in \u001b[0;36mscatterplot\u001b[1;34m(data, x, y, hue, size, style, palette, hue_order, hue_norm, sizes, size_order, size_norm, markers, style_order, legend, ax, **kwargs)\u001b[0m\n\u001b[0;32m    732\u001b[0m \u001b[38;5;28;01mdef\u001b[39;00m \u001b[38;5;21mscatterplot\u001b[39m(\n\u001b[0;32m    733\u001b[0m     data\u001b[38;5;241m=\u001b[39m\u001b[38;5;28;01mNone\u001b[39;00m, \u001b[38;5;241m*\u001b[39m,\n\u001b[0;32m    734\u001b[0m     x\u001b[38;5;241m=\u001b[39m\u001b[38;5;28;01mNone\u001b[39;00m, y\u001b[38;5;241m=\u001b[39m\u001b[38;5;28;01mNone\u001b[39;00m, hue\u001b[38;5;241m=\u001b[39m\u001b[38;5;28;01mNone\u001b[39;00m, size\u001b[38;5;241m=\u001b[39m\u001b[38;5;28;01mNone\u001b[39;00m, style\u001b[38;5;241m=\u001b[39m\u001b[38;5;28;01mNone\u001b[39;00m,\n\u001b[1;32m   (...)\u001b[0m\n\u001b[0;32m    738\u001b[0m     \u001b[38;5;241m*\u001b[39m\u001b[38;5;241m*\u001b[39mkwargs\n\u001b[0;32m    739\u001b[0m ):\n\u001b[0;32m    741\u001b[0m     variables \u001b[38;5;241m=\u001b[39m _ScatterPlotter\u001b[38;5;241m.\u001b[39mget_semantics(\u001b[38;5;28mlocals\u001b[39m())\n\u001b[1;32m--> 742\u001b[0m     p \u001b[38;5;241m=\u001b[39m \u001b[43m_ScatterPlotter\u001b[49m\u001b[43m(\u001b[49m\u001b[43mdata\u001b[49m\u001b[38;5;241;43m=\u001b[39;49m\u001b[43mdata\u001b[49m\u001b[43m,\u001b[49m\u001b[43m \u001b[49m\u001b[43mvariables\u001b[49m\u001b[38;5;241;43m=\u001b[39;49m\u001b[43mvariables\u001b[49m\u001b[43m,\u001b[49m\u001b[43m \u001b[49m\u001b[43mlegend\u001b[49m\u001b[38;5;241;43m=\u001b[39;49m\u001b[43mlegend\u001b[49m\u001b[43m)\u001b[49m\n\u001b[0;32m    744\u001b[0m     p\u001b[38;5;241m.\u001b[39mmap_hue(palette\u001b[38;5;241m=\u001b[39mpalette, order\u001b[38;5;241m=\u001b[39mhue_order, norm\u001b[38;5;241m=\u001b[39mhue_norm)\n\u001b[0;32m    745\u001b[0m     p\u001b[38;5;241m.\u001b[39mmap_size(sizes\u001b[38;5;241m=\u001b[39msizes, order\u001b[38;5;241m=\u001b[39msize_order, norm\u001b[38;5;241m=\u001b[39msize_norm)\n",
      "File \u001b[1;32m~\\anaconda3\\Lib\\site-packages\\seaborn\\relational.py:538\u001b[0m, in \u001b[0;36m_ScatterPlotter.__init__\u001b[1;34m(self, data, variables, legend)\u001b[0m\n\u001b[0;32m    529\u001b[0m \u001b[38;5;28;01mdef\u001b[39;00m \u001b[38;5;21m__init__\u001b[39m(\u001b[38;5;28mself\u001b[39m, \u001b[38;5;241m*\u001b[39m, data\u001b[38;5;241m=\u001b[39m\u001b[38;5;28;01mNone\u001b[39;00m, variables\u001b[38;5;241m=\u001b[39m{}, legend\u001b[38;5;241m=\u001b[39m\u001b[38;5;28;01mNone\u001b[39;00m):\n\u001b[0;32m    530\u001b[0m \n\u001b[0;32m    531\u001b[0m     \u001b[38;5;66;03m# TODO this is messy, we want the mapping to be agnostic about\u001b[39;00m\n\u001b[0;32m    532\u001b[0m     \u001b[38;5;66;03m# the kind of plot to draw, but for the time being we need to set\u001b[39;00m\n\u001b[0;32m    533\u001b[0m     \u001b[38;5;66;03m# this information so the SizeMapping can use it\u001b[39;00m\n\u001b[0;32m    534\u001b[0m     \u001b[38;5;28mself\u001b[39m\u001b[38;5;241m.\u001b[39m_default_size_range \u001b[38;5;241m=\u001b[39m (\n\u001b[0;32m    535\u001b[0m         np\u001b[38;5;241m.\u001b[39mr_[\u001b[38;5;241m.5\u001b[39m, \u001b[38;5;241m2\u001b[39m] \u001b[38;5;241m*\u001b[39m np\u001b[38;5;241m.\u001b[39msquare(mpl\u001b[38;5;241m.\u001b[39mrcParams[\u001b[38;5;124m\"\u001b[39m\u001b[38;5;124mlines.markersize\u001b[39m\u001b[38;5;124m\"\u001b[39m])\n\u001b[0;32m    536\u001b[0m     )\n\u001b[1;32m--> 538\u001b[0m     \u001b[38;5;28;43msuper\u001b[39;49m\u001b[43m(\u001b[49m\u001b[43m)\u001b[49m\u001b[38;5;241;43m.\u001b[39;49m\u001b[38;5;21;43m__init__\u001b[39;49m\u001b[43m(\u001b[49m\u001b[43mdata\u001b[49m\u001b[38;5;241;43m=\u001b[39;49m\u001b[43mdata\u001b[49m\u001b[43m,\u001b[49m\u001b[43m \u001b[49m\u001b[43mvariables\u001b[49m\u001b[38;5;241;43m=\u001b[39;49m\u001b[43mvariables\u001b[49m\u001b[43m)\u001b[49m\n\u001b[0;32m    540\u001b[0m     \u001b[38;5;28mself\u001b[39m\u001b[38;5;241m.\u001b[39mlegend \u001b[38;5;241m=\u001b[39m legend\n",
      "File \u001b[1;32m~\\anaconda3\\Lib\\site-packages\\seaborn\\_oldcore.py:640\u001b[0m, in \u001b[0;36mVectorPlotter.__init__\u001b[1;34m(self, data, variables)\u001b[0m\n\u001b[0;32m    635\u001b[0m \u001b[38;5;66;03m# var_ordered is relevant only for categorical axis variables, and may\u001b[39;00m\n\u001b[0;32m    636\u001b[0m \u001b[38;5;66;03m# be better handled by an internal axis information object that tracks\u001b[39;00m\n\u001b[0;32m    637\u001b[0m \u001b[38;5;66;03m# such information and is set up by the scale_* methods. The analogous\u001b[39;00m\n\u001b[0;32m    638\u001b[0m \u001b[38;5;66;03m# information for numeric axes would be information about log scales.\u001b[39;00m\n\u001b[0;32m    639\u001b[0m \u001b[38;5;28mself\u001b[39m\u001b[38;5;241m.\u001b[39m_var_ordered \u001b[38;5;241m=\u001b[39m {\u001b[38;5;124m\"\u001b[39m\u001b[38;5;124mx\u001b[39m\u001b[38;5;124m\"\u001b[39m: \u001b[38;5;28;01mFalse\u001b[39;00m, \u001b[38;5;124m\"\u001b[39m\u001b[38;5;124my\u001b[39m\u001b[38;5;124m\"\u001b[39m: \u001b[38;5;28;01mFalse\u001b[39;00m}  \u001b[38;5;66;03m# alt., used DefaultDict\u001b[39;00m\n\u001b[1;32m--> 640\u001b[0m \u001b[38;5;28;43mself\u001b[39;49m\u001b[38;5;241;43m.\u001b[39;49m\u001b[43massign_variables\u001b[49m\u001b[43m(\u001b[49m\u001b[43mdata\u001b[49m\u001b[43m,\u001b[49m\u001b[43m \u001b[49m\u001b[43mvariables\u001b[49m\u001b[43m)\u001b[49m\n\u001b[0;32m    642\u001b[0m \u001b[38;5;28;01mfor\u001b[39;00m var, \u001b[38;5;28mcls\u001b[39m \u001b[38;5;129;01min\u001b[39;00m \u001b[38;5;28mself\u001b[39m\u001b[38;5;241m.\u001b[39m_semantic_mappings\u001b[38;5;241m.\u001b[39mitems():\n\u001b[0;32m    643\u001b[0m \n\u001b[0;32m    644\u001b[0m     \u001b[38;5;66;03m# Create the mapping function\u001b[39;00m\n\u001b[0;32m    645\u001b[0m     map_func \u001b[38;5;241m=\u001b[39m partial(\u001b[38;5;28mcls\u001b[39m\u001b[38;5;241m.\u001b[39mmap, plotter\u001b[38;5;241m=\u001b[39m\u001b[38;5;28mself\u001b[39m)\n",
      "File \u001b[1;32m~\\anaconda3\\Lib\\site-packages\\seaborn\\_oldcore.py:701\u001b[0m, in \u001b[0;36mVectorPlotter.assign_variables\u001b[1;34m(self, data, variables)\u001b[0m\n\u001b[0;32m    699\u001b[0m \u001b[38;5;28;01melse\u001b[39;00m:\n\u001b[0;32m    700\u001b[0m     \u001b[38;5;28mself\u001b[39m\u001b[38;5;241m.\u001b[39minput_format \u001b[38;5;241m=\u001b[39m \u001b[38;5;124m\"\u001b[39m\u001b[38;5;124mlong\u001b[39m\u001b[38;5;124m\"\u001b[39m\n\u001b[1;32m--> 701\u001b[0m     plot_data, variables \u001b[38;5;241m=\u001b[39m \u001b[38;5;28;43mself\u001b[39;49m\u001b[38;5;241;43m.\u001b[39;49m\u001b[43m_assign_variables_longform\u001b[49m\u001b[43m(\u001b[49m\n\u001b[0;32m    702\u001b[0m \u001b[43m        \u001b[49m\u001b[43mdata\u001b[49m\u001b[43m,\u001b[49m\u001b[43m \u001b[49m\u001b[38;5;241;43m*\u001b[39;49m\u001b[38;5;241;43m*\u001b[39;49m\u001b[43mvariables\u001b[49m\u001b[43m,\u001b[49m\n\u001b[0;32m    703\u001b[0m \u001b[43m    \u001b[49m\u001b[43m)\u001b[49m\n\u001b[0;32m    705\u001b[0m \u001b[38;5;28mself\u001b[39m\u001b[38;5;241m.\u001b[39mplot_data \u001b[38;5;241m=\u001b[39m plot_data\n\u001b[0;32m    706\u001b[0m \u001b[38;5;28mself\u001b[39m\u001b[38;5;241m.\u001b[39mvariables \u001b[38;5;241m=\u001b[39m variables\n",
      "File \u001b[1;32m~\\anaconda3\\Lib\\site-packages\\seaborn\\_oldcore.py:938\u001b[0m, in \u001b[0;36mVectorPlotter._assign_variables_longform\u001b[1;34m(self, data, **kwargs)\u001b[0m\n\u001b[0;32m    933\u001b[0m \u001b[38;5;28;01melif\u001b[39;00m \u001b[38;5;28misinstance\u001b[39m(val, (\u001b[38;5;28mstr\u001b[39m, \u001b[38;5;28mbytes\u001b[39m)):\n\u001b[0;32m    934\u001b[0m \n\u001b[0;32m    935\u001b[0m     \u001b[38;5;66;03m# This looks like a column name but we don't know what it means!\u001b[39;00m\n\u001b[0;32m    937\u001b[0m     err \u001b[38;5;241m=\u001b[39m \u001b[38;5;124mf\u001b[39m\u001b[38;5;124m\"\u001b[39m\u001b[38;5;124mCould not interpret value `\u001b[39m\u001b[38;5;132;01m{\u001b[39;00mval\u001b[38;5;132;01m}\u001b[39;00m\u001b[38;5;124m` for parameter `\u001b[39m\u001b[38;5;132;01m{\u001b[39;00mkey\u001b[38;5;132;01m}\u001b[39;00m\u001b[38;5;124m`\u001b[39m\u001b[38;5;124m\"\u001b[39m\n\u001b[1;32m--> 938\u001b[0m     \u001b[38;5;28;01mraise\u001b[39;00m \u001b[38;5;167;01mValueError\u001b[39;00m(err)\n\u001b[0;32m    940\u001b[0m \u001b[38;5;28;01melse\u001b[39;00m:\n\u001b[0;32m    941\u001b[0m \n\u001b[0;32m    942\u001b[0m     \u001b[38;5;66;03m# Otherwise, assume the value is itself data\u001b[39;00m\n\u001b[0;32m    943\u001b[0m \n\u001b[0;32m    944\u001b[0m     \u001b[38;5;66;03m# Raise when data object is present and a vector can't matched\u001b[39;00m\n\u001b[0;32m    945\u001b[0m     \u001b[38;5;28;01mif\u001b[39;00m \u001b[38;5;28misinstance\u001b[39m(data, pd\u001b[38;5;241m.\u001b[39mDataFrame) \u001b[38;5;129;01mand\u001b[39;00m \u001b[38;5;129;01mnot\u001b[39;00m \u001b[38;5;28misinstance\u001b[39m(val, pd\u001b[38;5;241m.\u001b[39mSeries):\n",
      "\u001b[1;31mValueError\u001b[0m: Could not interpret value `Clusters` for parameter `hue`"
     ]
    }
   ],
   "source": [
    "sns.scatterplot(x='satisfaction_level', y = 'left',hue='Clusters' ,data = X);"
   ]
  },
  {
   "cell_type": "code",
   "execution_count": null,
   "id": "5fd8b768-9420-4842-8fa7-795b30a2a5c5",
   "metadata": {
    "tags": []
   },
   "outputs": [],
   "source": [
    "df.head()"
   ]
  },
  {
   "cell_type": "code",
   "execution_count": null,
   "id": "591b8ee2-64b8-4552-9c97-0153b0e3ea4a",
   "metadata": {
    "tags": []
   },
   "outputs": [],
   "source": [
    "df.info()"
   ]
  },
  {
   "cell_type": "code",
   "execution_count": null,
   "id": "531ea554-86b4-467a-9519-87faa8de5227",
   "metadata": {
    "tags": []
   },
   "outputs": [],
   "source": [
    "df['department'].value_counts()"
   ]
  },
  {
   "cell_type": "code",
   "execution_count": null,
   "id": "ba4c9d78-6f75-446b-a36c-bb8dc750d2b0",
   "metadata": {
    "tags": []
   },
   "outputs": [],
   "source": [
    "department = pd.get_dummies(df['department'], prefix='department', prefix_sep='_', drop_first=True)\n",
    "department"
   ]
  },
  {
   "cell_type": "code",
   "execution_count": null,
   "id": "3e2959c4-9716-4f61-ac90-de521e091b89",
   "metadata": {
    "tags": []
   },
   "outputs": [],
   "source": [
    "df['salary'].value_counts()"
   ]
  },
  {
   "cell_type": "code",
   "execution_count": null,
   "id": "522b0f7b-ed58-4d1e-a850-4239f398b5e4",
   "metadata": {
    "tags": []
   },
   "outputs": [],
   "source": [
    "salary =  pd.get_dummies(df['salary'], prefix='salary', prefix_sep='_', drop_first=True)\n",
    "salary"
   ]
  },
  {
   "cell_type": "code",
   "execution_count": null,
   "id": "406d46c8-b9a5-49c9-9efa-9e75e8292647",
   "metadata": {
    "tags": []
   },
   "outputs": [],
   "source": [
    "data = pd.concat([df,department,salary], axis=1)\n",
    "data.head()"
   ]
  },
  {
   "cell_type": "code",
   "execution_count": null,
   "id": "56c12184-7edc-4b1e-93ad-ec78b5d350ed",
   "metadata": {
    "tags": []
   },
   "outputs": [],
   "source": [
    "data = data.drop(['department','salary'],axis=1)\n",
    "data.shape"
   ]
  },
  {
   "cell_type": "code",
   "execution_count": null,
   "id": "4103938f-0d58-4c7d-beab-492c58c7c77c",
   "metadata": {
    "tags": []
   },
   "outputs": [],
   "source": [
    "data.head()"
   ]
  },
  {
   "cell_type": "code",
   "execution_count": null,
   "id": "c40cfa38-5db4-4519-a19a-668bd1f1c2b8",
   "metadata": {
    "tags": []
   },
   "outputs": [],
   "source": [
    "data.info()"
   ]
  },
  {
   "cell_type": "markdown",
   "id": "567a8754-bc51-4f2c-ba3e-b854a205c7b4",
   "metadata": {},
   "source": [
    "Do the stratified split of the dataset to train and test."
   ]
  },
  {
   "cell_type": "code",
   "execution_count": null,
   "id": "3e3e3839-a128-459d-86ae-2e0a006b9c62",
   "metadata": {
    "tags": []
   },
   "outputs": [],
   "source": [
    "X = data.drop(['left'],axis=1)\n",
    "y = data['left']"
   ]
  },
  {
   "cell_type": "code",
   "execution_count": null,
   "id": "3dce74dc-bfe9-420d-a5db-1a04524a5393",
   "metadata": {
    "tags": []
   },
   "outputs": [],
   "source": [
    "print(X.shape)\n",
    "print(y.shape)"
   ]
  },
  {
   "cell_type": "code",
   "execution_count": null,
   "id": "abf8a95c-1a92-4a81-ba20-2d96eea3e257",
   "metadata": {
    "tags": []
   },
   "outputs": [],
   "source": [
    "sss = StratifiedShuffleSplit(n_splits=5, test_size=0.2, random_state=123)\n",
    "sss.get_n_splits(X, y)"
   ]
  },
  {
   "cell_type": "code",
   "execution_count": null,
   "id": "77b47306-3ad3-4570-a5e9-6dd4db0040ea",
   "metadata": {
    "tags": []
   },
   "outputs": [],
   "source": [
    "for train,test in sss.split(X,y):     #this will splits the index\n",
    "    X_train = X.iloc[train]\n",
    "    y_train = y.iloc[train]\n",
    "    X_test = X.iloc[test]\n",
    "    y_test = y.iloc[test]\n",
    "print(y_train.value_counts())  \n",
    "print(y_test.value_counts())"
   ]
  },
  {
   "cell_type": "code",
   "execution_count": null,
   "id": "1e463e03-dbf9-4428-a115-fceb92f47c64",
   "metadata": {
    "tags": []
   },
   "outputs": [],
   "source": [
    "smote = SMOTE(random_state = 11)\n",
    "X_train, y_train = smote.fit_resample(X_train, y_train)"
   ]
  },
  {
   "cell_type": "markdown",
   "id": "ef2ae723-274b-455e-812d-e2ce1c4983be",
   "metadata": {},
   "source": [
    "Train a Logistic Regression model and apply a 5-Fold CV and plot the classification report."
   ]
  },
  {
   "cell_type": "code",
   "execution_count": null,
   "id": "77d2340b-a6e6-4504-ad13-256011f4e32f",
   "metadata": {
    "tags": []
   },
   "outputs": [],
   "source": [
    "lr = LogisticRegression(solver='liblinear',multi_class='ovr')\n",
    "score_lr=cross_val_score(lr,X_train, y_train, cv=5)\n",
    "print(score_lr)\n",
    "print(\"Avg :\",np.average(score_lr))"
   ]
  },
  {
   "cell_type": "code",
   "execution_count": null,
   "id": "18cf2d92-91ee-40cb-b58a-64621a6d7573",
   "metadata": {
    "tags": []
   },
   "outputs": [],
   "source": [
    "pred_lr = cross_val_predict(lr, X_test, y_test, cv=5)\n",
    "pred_lr"
   ]
  },
  {
   "cell_type": "code",
   "execution_count": null,
   "id": "74eef8f1-28f9-4388-88fd-3c5931feef63",
   "metadata": {
    "tags": []
   },
   "outputs": [],
   "source": [
    "print(classification_report(y_test,pred_lr))"
   ]
  },
  {
   "cell_type": "code",
   "execution_count": null,
   "id": "1d6c42f0-ea58-4a0b-a364-6e1bd820c03d",
   "metadata": {
    "tags": []
   },
   "outputs": [],
   "source": [
    "cm_lr = confusion_matrix(y_test, pred_lr)\n",
    "disp = ConfusionMatrixDisplay(cm_lr)\n",
    "disp.plot()"
   ]
  },
  {
   "cell_type": "markdown",
   "id": "2af78aff-0645-4474-ab67-1592d46d1937",
   "metadata": {},
   "source": [
    "Train a Random Forest Classifier model and apply the 5-Fold CV and plot the classification report."
   ]
  },
  {
   "cell_type": "code",
   "execution_count": null,
   "id": "a8b92a30-36a2-4a31-8653-29fe095a6b3d",
   "metadata": {
    "tags": []
   },
   "outputs": [],
   "source": [
    "rfc = RandomForestClassifier(n_estimators=40)\n",
    "score_rfc=cross_val_score(rfc,X_train, y_train, cv=5)\n",
    "print(score_rfc)\n",
    "print(\"Avg :\",np.average(score_rfc))"
   ]
  },
  {
   "cell_type": "code",
   "execution_count": null,
   "id": "2192da65-5955-4e35-848f-fc40f2071bb9",
   "metadata": {
    "tags": []
   },
   "outputs": [],
   "source": [
    "pred_rfc = cross_val_predict(rfc, X_test, y_test, cv=5)\n",
    "print(classification_report(y_test,pred_rfc))\n",
    "cm_rfc = confusion_matrix(y_test, pred_rfc)\n",
    "disp = ConfusionMatrixDisplay(cm_rfc)\n",
    "disp.plot()"
   ]
  },
  {
   "cell_type": "markdown",
   "id": "21210756-1ddc-426d-9ad8-7e1825013b0d",
   "metadata": {},
   "source": [
    "Train a Gradient Boosting Classifier model and apply the 5-Fold CV and plot the classification report."
   ]
  },
  {
   "cell_type": "code",
   "execution_count": null,
   "id": "142dad74-a00d-480f-afa4-d7516dda7e4e",
   "metadata": {
    "tags": []
   },
   "outputs": [],
   "source": [
    "gbc = GradientBoostingClassifier(n_estimators=100, learning_rate=1.0,max_depth=1, random_state=0)\n",
    "score_gbc=cross_val_score(gbc,X_train, y_train, cv=5)\n",
    "print(score_gbc)\n",
    "print(\"Avg :\",np.average(score_gbc))"
   ]
  },
  {
   "cell_type": "code",
   "execution_count": null,
   "id": "f4f19ee4-e752-4db7-b6ad-6b752bd9f0ab",
   "metadata": {
    "tags": []
   },
   "outputs": [],
   "source": [
    "pred_gbc = cross_val_predict(gbc, X_test, y_test, cv=5)\n",
    "print(classification_report(y_test,pred_gbc))\n",
    "cm_gbc = confusion_matrix(y_test, pred_gbc)\n",
    "disp = ConfusionMatrixDisplay(cm_gbc)\n",
    "disp.plot()"
   ]
  },
  {
   "cell_type": "markdown",
   "id": "2e5c9ec8-ed01-4517-b5cf-ed87cb891d52",
   "metadata": {},
   "source": [
    "##Based on the confusion matrix,if an employee who might leave the organisation is misclassified as someone who won't leave then proper strategies to retain that person \n",
    "##will not be implemented on him or her.Hence Recall is better metric to be used"
   ]
  },
  {
   "cell_type": "markdown",
   "id": "49c61ff8-d3ee-47c8-ad23-3b681fdc3583",
   "metadata": {},
   "source": [
    "##Since Random Forest shows the highest accuracy with good f1 score, we will conclude that to be our best performing model"
   ]
  },
  {
   "cell_type": "code",
   "execution_count": null,
   "id": "c669a0e5-efd6-412a-85eb-376b6aa9d64e",
   "metadata": {
    "tags": []
   },
   "outputs": [],
   "source": [
    "test_predictions = pd.DataFrame(data=pred_rfc)\n",
    "test_predictions"
   ]
  },
  {
   "cell_type": "code",
   "execution_count": null,
   "id": "1c8ef653-7b60-487b-bb78-3ba09f4f8cce",
   "metadata": {
    "tags": []
   },
   "outputs": [],
   "source": [
    "test_predictions.rename(columns={0:'predictions'},inplace=True)\n",
    "test_predictions.head()"
   ]
  },
  {
   "cell_type": "code",
   "execution_count": null,
   "id": "5dd27146-6209-4827-8567-cb9ff49b5b1d",
   "metadata": {
    "tags": []
   },
   "outputs": [],
   "source": [
    "prob = cross_val_predict(rfc, X_test, y_test, cv=5, method='predict_proba')\n",
    "# keep probabilities for the positive outcome only\n",
    "prob = prob[:, 1]\n",
    "prob"
   ]
  },
  {
   "cell_type": "code",
   "execution_count": null,
   "id": "6ee729af-0637-4e3c-97f0-a3613e627259",
   "metadata": {
    "tags": []
   },
   "outputs": [],
   "source": [
    "probability = pd.DataFrame(data=prob)\n",
    "probability.head()"
   ]
  },
  {
   "cell_type": "code",
   "execution_count": null,
   "id": "64e7333c-32f7-4dcf-a620-4b4c53f72d96",
   "metadata": {
    "tags": []
   },
   "outputs": [],
   "source": [
    "probability.rename(columns={0:'probability'},inplace=True)\n",
    "probability.head()"
   ]
  },
  {
   "cell_type": "code",
   "execution_count": null,
   "id": "37ace124-a163-4b23-aed1-d8bfaca57af7",
   "metadata": {
    "tags": []
   },
   "outputs": [],
   "source": [
    "len(probability)"
   ]
  },
  {
   "cell_type": "code",
   "execution_count": null,
   "id": "d2ecedcf-dc20-48fb-b8b9-983d392f229c",
   "metadata": {
    "tags": []
   },
   "outputs": [],
   "source": [
    "# create a list of our conditions\n",
    "conditions = [\n",
    "    (probability['probability'] <= 0.2),\n",
    "    (probability['probability'] > 0.2) & (probability['probability'] <= 0.6),\n",
    "    (probability['probability'] > 0.6) & (probability['probability'] <= 0.9),\n",
    "    (probability['probability'] > 0.9)\n",
    "    ]\n",
    "\n",
    "# create a list of the values we want to assign for each condition\n",
    "values = ['Safe Zone (Green)', 'Low Risk Zone (Yellow)', 'Medium Risk Zone (Orange)', 'High Risk Zone (Red)']\n",
    "\n",
    "# create a new column and use np.select to assign values to it using our lists as arguments\n",
    "probability['zone'] = np.select(conditions, values)\n",
    "\n",
    "# display updated DataFrame\n",
    "probability.head()"
   ]
  },
  {
   "cell_type": "code",
   "execution_count": null,
   "id": "a5b9719d-a6f4-4525-b3fe-2d2f8d3508db",
   "metadata": {
    "tags": []
   },
   "outputs": [],
   "source": [
    "print(X_test.shape)\n",
    "print(test_predictions.shape)\n",
    "print(probability.shape)"
   ]
  },
  {
   "cell_type": "code",
   "execution_count": null,
   "id": "d78a1fb2-f1c3-49a3-80d0-16c7060c9b10",
   "metadata": {
    "tags": []
   },
   "outputs": [],
   "source": [
    "X_test = X_test.reset_index()"
   ]
  },
  {
   "cell_type": "code",
   "execution_count": null,
   "id": "de970a05-3fcf-4353-a4f9-c2f5bdb5f174",
   "metadata": {
    "tags": []
   },
   "outputs": [],
   "source": [
    "new_test_df = pd.concat([X_test,test_predictions,probability], axis=1)\n",
    "new_test_df.head()"
   ]
  },
  {
   "cell_type": "code",
   "execution_count": null,
   "id": "3dddafd2-fd84-4d5e-887f-c8bc4c8a49e9",
   "metadata": {
    "tags": []
   },
   "outputs": [],
   "source": [
    "new_test_df['zone'].value_counts()"
   ]
  },
  {
   "cell_type": "code",
   "execution_count": null,
   "id": "9a017cec-5cca-48d5-bb5b-b6e437226aa6",
   "metadata": {
    "tags": []
   },
   "outputs": [],
   "source": [
    "new_test_df['zone'].value_counts()/len(new_test_df)"
   ]
  },
  {
   "cell_type": "code",
   "execution_count": null,
   "id": "c8cbcdd3-2cb2-4bfb-b55d-99bcfb3c99a5",
   "metadata": {
    "tags": []
   },
   "outputs": [],
   "source": [
    "colors = {'High Risk Zone (Red)':'red', 'Safe Zone (Green)':'green', 'Medium Risk Zone (Orange)':'orange', 'Low Risk Zone (Yellow)':'yellow'}\n",
    "sns.countplot(data=new_test_df, x='number_project', hue='zone', palette= colors)"
   ]
  },
  {
   "cell_type": "code",
   "execution_count": null,
   "id": "77baa60c-08bc-413d-9284-5e943537449b",
   "metadata": {
    "tags": []
   },
   "outputs": [],
   "source": [
    "new_test_df['promotion_last_5years'].value_counts()"
   ]
  },
  {
   "cell_type": "code",
   "execution_count": null,
   "id": "7acc5852-c487-4a1a-8e03-b4cd47331731",
   "metadata": {
    "tags": []
   },
   "outputs": [],
   "source": [
    "sns.countplot(data=new_test_df, x='promotion_last_5years', hue='zone', palette= colors)"
   ]
  },
  {
   "cell_type": "code",
   "execution_count": null,
   "id": "c3e7a05a-771d-446e-ab1e-7f3248ce20f4",
   "metadata": {
    "tags": []
   },
   "outputs": [],
   "source": [
    "sns.countplot(data=new_test_df, x='time_spend_company', hue='zone', palette= colors)"
   ]
  },
  {
   "cell_type": "code",
   "execution_count": null,
   "id": "73f6e009-8161-4702-b228-c8ece2ff03a4",
   "metadata": {
    "tags": []
   },
   "outputs": [],
   "source": [
    "plt.figure(figsize=(12,6))\n",
    "sns.swarmplot(data=new_test_df, x='zone', y='average_montly_hours')"
   ]
  },
  {
   "cell_type": "code",
   "execution_count": null,
   "id": "97866057-2368-4c0d-a34a-1db45c12fade",
   "metadata": {
    "tags": []
   },
   "outputs": [],
   "source": [
    "plt.figure(figsize=(12,6))\n",
    "sns.violinplot(x=\"zone\",y=\"average_montly_hours\",data=new_test_df, inner=\"box\", palette=colors, cut=2, linewidth=1)"
   ]
  },
  {
   "cell_type": "markdown",
   "id": "1b9bf0e0-0f03-4175-8947-bc832015a891",
   "metadata": {},
   "source": [
    "##Overview based on 'average_montly_hours' :\n",
    "\n",
    "From above plot, we can clearly say that employees who worked less than 160 Hrs were most likely to quit.\n",
    "Also, the employees who worked more than 220 Hrs on an average were at medium risk of quiting the company.\n",
    "However, Employees who worked 200 Hrs mothly on an average were pretty happy and did not quit from the company."
   ]
  },
  {
   "cell_type": "code",
   "execution_count": null,
   "id": "ae1be3b5-339d-4f06-b814-e745628b83af",
   "metadata": {
    "tags": []
   },
   "outputs": [],
   "source": [
    "plt.figure(figsize=(12,6))\n",
    "sns.violinplot(x=\"zone\",y=\"satisfaction_level\",data=new_test_df, inner=\"box\", palette=colors, cut=2, linewidth=1)"
   ]
  },
  {
   "cell_type": "markdown",
   "id": "09e60773-ac45-4aa6-bce8-22175ac0b0cc",
   "metadata": {},
   "source": [
    "Overview based on 'satisfaction_level' :\n",
    "\n",
    "From above plot, we can clearly say that employees with satisfaction level less than 0.4 were most likely to leave the company.\n",
    "Also, employees with satisfaction level of 0.6 were happy at the company and will not quit.\n",
    "But also, employees with satisfaction level of 0.8 and higher had some chance of quiting."
   ]
  },
  {
   "cell_type": "code",
   "execution_count": null,
   "id": "f28093bc-4557-443f-8b00-b179f004f3c4",
   "metadata": {
    "tags": []
   },
   "outputs": [],
   "source": [
    "sns.countplot(data=new_test_df, x='salary_low', hue='zone', palette= colors)"
   ]
  },
  {
   "cell_type": "code",
   "execution_count": null,
   "id": "179e721e-b717-4480-97e7-0655e9aee569",
   "metadata": {
    "tags": []
   },
   "outputs": [],
   "source": [
    "sns.countplot(data=new_test_df, x='salary_medium', hue='zone', palette= colors)"
   ]
  },
  {
   "cell_type": "code",
   "execution_count": null,
   "id": "d5f19ce7-017f-4b7b-9bd1-11d2c060f0f4",
   "metadata": {
    "tags": []
   },
   "outputs": [],
   "source": [
    "plt.figure(figsize=(12,6))\n",
    "sns.countplot(data=df, x='salary', hue='left')"
   ]
  },
  {
   "cell_type": "code",
   "execution_count": null,
   "id": "63d1e12b-96aa-47d5-9f5e-dceaeab7880d",
   "metadata": {
    "tags": []
   },
   "outputs": [],
   "source": [
    "plt.figure(figsize=(12,6))\n",
    "sns.countplot(data=df, x='department', hue='left')"
   ]
  },
  {
   "cell_type": "code",
   "execution_count": null,
   "id": "250c2777-42fe-4796-bbcd-d0857275581c",
   "metadata": {
    "tags": []
   },
   "outputs": [],
   "source": [
    "sns.countplot(data=new_test_df, x='department_sales', hue='zone', palette= colors)"
   ]
  },
  {
   "cell_type": "markdown",
   "id": "a45ac27a-1bed-4e73-b37f-dbeee574f86a",
   "metadata": {},
   "source": [
    "Overview based on 'salary' and 'department' :\n",
    "\n",
    "Both, these categories don't provide clear pattern on employee action.\n",
    "Although, employees with low and medium salary had more chance of quitting than others.\n",
    "Similarly, employees who belongs to sales, technical and support departments are more prone to leaving the company."
   ]
  },
  {
   "cell_type": "code",
   "execution_count": null,
   "id": "aeaeeefc-7db1-44ac-8b47-5f667abd377a",
   "metadata": {},
   "outputs": [],
   "source": []
  }
 ],
 "metadata": {
  "kernelspec": {
   "display_name": "Python 3 (ipykernel)",
   "language": "python",
   "name": "python3"
  },
  "language_info": {
   "codemirror_mode": {
    "name": "ipython",
    "version": 3
   },
   "file_extension": ".py",
   "mimetype": "text/x-python",
   "name": "python",
   "nbconvert_exporter": "python",
   "pygments_lexer": "ipython3",
   "version": "3.11.5"
  }
 },
 "nbformat": 4,
 "nbformat_minor": 5
}
